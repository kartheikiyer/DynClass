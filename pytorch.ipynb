{
  "nbformat": 4,
  "nbformat_minor": 0,
  "metadata": {
    "colab": {
      "name": "pytorch.ipynb",
      "version": "0.3.2",
      "provenance": [],
      "include_colab_link": true
    },
    "kernelspec": {
      "name": "python3",
      "display_name": "Python 3"
    }
  },
  "cells": [
    {
      "cell_type": "markdown",
      "metadata": {
        "id": "view-in-github",
        "colab_type": "text"
      },
      "source": [
        "<a href=\"https://colab.research.google.com/github/kartheikiyer/DynClass/blob/master/pytorch.ipynb\" target=\"_parent\"><img src=\"https://colab.research.google.com/assets/colab-badge.svg\" alt=\"Open In Colab\"/></a>"
      ]
    },
    {
      "metadata": {
        "id": "c9SxbBBxhGEw",
        "colab_type": "code",
        "colab": {}
      },
      "cell_type": "code",
      "source": [
        "import numpy as np\n",
        "from matplotlib import pyplot as plt\n",
        "%matplotlib inline"
      ],
      "execution_count": 0,
      "outputs": []
    },
    {
      "metadata": {
        "id": "rtbdJTNwhUhT",
        "colab_type": "code",
        "colab": {}
      },
      "cell_type": "code",
      "source": [
        "fontsize = 18\n",
        "rcparams = {}\n",
        "rcparams['figure.figsize'] = (10, 6)\n",
        "rcparams['axes.labelsize'] = fontsize\n",
        "rcparams['legend.fontsize'] = fontsize-2\n",
        "rcparams['axes.titlesize'] = fontsize\n",
        "rcparams['axes.linewidth'] = 2\n",
        "rcparams['axes.grid'] = True\n",
        "for axis in ['x', 'y']:\n",
        "    rcparams['%stick.labelsize'%axis] = fontsize-2\n",
        "    rcparams['%stick.direction'%axis] = 'in'\n",
        "    rcparams['%stick.major.size'%axis] = 5.5\n",
        "    rcparams['%stick.minor.size'%axis] =  3.5\n",
        "    rcparams['%stick.major.width'%axis] = 2\n",
        "    rcparams['%stick.minor.width'%axis] = 1.5\n",
        "rcparams['xtick.top'] = True\n",
        "rcparams['ytick.right'] = True\n",
        "\n",
        "import matplotlib as mpl\n",
        "for key in rcparams: mpl.rcParams[key] = rcparams[key]"
      ],
      "execution_count": 0,
      "outputs": []
    },
    {
      "metadata": {
        "id": "A4HtWx4WhXhb",
        "colab_type": "code",
        "colab": {}
      },
      "cell_type": "code",
      "source": [
        "import torch\n",
        "import torchvision\n",
        "import torchvision.transforms as transforms"
      ],
      "execution_count": 0,
      "outputs": []
    },
    {
      "metadata": {
        "id": "rTxSO_5OhZmX",
        "colab_type": "code",
        "colab": {}
      },
      "cell_type": "code",
      "source": [
        ""
      ],
      "execution_count": 0,
      "outputs": []
    }
  ]
}